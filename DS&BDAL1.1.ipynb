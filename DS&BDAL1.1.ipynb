{
 "cells": [
  {
   "cell_type": "code",
   "execution_count": 1,
   "id": "e19540cf",
   "metadata": {},
   "outputs": [],
   "source": [
    "import pandas as pd"
   ]
  },
  {
   "cell_type": "code",
   "execution_count": 2,
   "id": "c1a7db81",
   "metadata": {},
   "outputs": [],
   "source": [
    "import numpy as np"
   ]
  },
  {
   "cell_type": "code",
   "execution_count": 11,
   "id": "7757e60b",
   "metadata": {},
   "outputs": [],
   "source": [
    "df=pd.read_csv(\"/home/admin1/Downloads/Used Car Dataset.csv\")"
   ]
  },
  {
   "cell_type": "code",
   "execution_count": 12,
   "id": "75ee3345",
   "metadata": {},
   "outputs": [
    {
     "data": {
      "text/html": [
       "<div>\n",
       "<style scoped>\n",
       "    .dataframe tbody tr th:only-of-type {\n",
       "        vertical-align: middle;\n",
       "    }\n",
       "\n",
       "    .dataframe tbody tr th {\n",
       "        vertical-align: top;\n",
       "    }\n",
       "\n",
       "    .dataframe thead th {\n",
       "        text-align: right;\n",
       "    }\n",
       "</style>\n",
       "<table border=\"1\" class=\"dataframe\">\n",
       "  <thead>\n",
       "    <tr style=\"text-align: right;\">\n",
       "      <th></th>\n",
       "      <th>Unnamed: 0</th>\n",
       "      <th>car_name</th>\n",
       "      <th>registration_year</th>\n",
       "      <th>insurance_validity</th>\n",
       "      <th>fuel_type</th>\n",
       "      <th>seats</th>\n",
       "      <th>kms_driven</th>\n",
       "      <th>ownsership</th>\n",
       "      <th>transmission</th>\n",
       "      <th>manufacturing_year</th>\n",
       "      <th>mileage(kmpl)</th>\n",
       "      <th>engine(cc)</th>\n",
       "      <th>max_power(bhp)</th>\n",
       "      <th>torque(Nm)</th>\n",
       "      <th>price(in lakhs)</th>\n",
       "    </tr>\n",
       "  </thead>\n",
       "  <tbody>\n",
       "    <tr>\n",
       "      <th>0</th>\n",
       "      <td>0</td>\n",
       "      <td>2017 Mercedes-Benz S-Class S400</td>\n",
       "      <td>Jul-17</td>\n",
       "      <td>Comprehensive</td>\n",
       "      <td>Petrol</td>\n",
       "      <td>5</td>\n",
       "      <td>56000</td>\n",
       "      <td>First Owner</td>\n",
       "      <td>Automatic</td>\n",
       "      <td>2017</td>\n",
       "      <td>7.81</td>\n",
       "      <td>2996.0</td>\n",
       "      <td>2996.0</td>\n",
       "      <td>333.0</td>\n",
       "      <td>63.75</td>\n",
       "    </tr>\n",
       "    <tr>\n",
       "      <th>1</th>\n",
       "      <td>1</td>\n",
       "      <td>2020 Nissan Magnite Turbo CVT XV Premium Opt BSVI</td>\n",
       "      <td>Jan-21</td>\n",
       "      <td>Comprehensive</td>\n",
       "      <td>Petrol</td>\n",
       "      <td>5</td>\n",
       "      <td>30615</td>\n",
       "      <td>First Owner</td>\n",
       "      <td>Automatic</td>\n",
       "      <td>2020</td>\n",
       "      <td>17.40</td>\n",
       "      <td>999.0</td>\n",
       "      <td>999.0</td>\n",
       "      <td>9863.0</td>\n",
       "      <td>8.99</td>\n",
       "    </tr>\n",
       "    <tr>\n",
       "      <th>2</th>\n",
       "      <td>2</td>\n",
       "      <td>2018 BMW X1 sDrive 20d xLine</td>\n",
       "      <td>Sep-18</td>\n",
       "      <td>Comprehensive</td>\n",
       "      <td>Diesel</td>\n",
       "      <td>5</td>\n",
       "      <td>24000</td>\n",
       "      <td>First Owner</td>\n",
       "      <td>Automatic</td>\n",
       "      <td>2018</td>\n",
       "      <td>20.68</td>\n",
       "      <td>1995.0</td>\n",
       "      <td>1995.0</td>\n",
       "      <td>188.0</td>\n",
       "      <td>23.75</td>\n",
       "    </tr>\n",
       "    <tr>\n",
       "      <th>3</th>\n",
       "      <td>3</td>\n",
       "      <td>2019 Kia Seltos GTX Plus</td>\n",
       "      <td>Dec-19</td>\n",
       "      <td>Comprehensive</td>\n",
       "      <td>Petrol</td>\n",
       "      <td>5</td>\n",
       "      <td>18378</td>\n",
       "      <td>First Owner</td>\n",
       "      <td>Manual</td>\n",
       "      <td>2019</td>\n",
       "      <td>16.50</td>\n",
       "      <td>1353.0</td>\n",
       "      <td>1353.0</td>\n",
       "      <td>13808.0</td>\n",
       "      <td>13.56</td>\n",
       "    </tr>\n",
       "    <tr>\n",
       "      <th>4</th>\n",
       "      <td>4</td>\n",
       "      <td>2019 Skoda Superb LK 1.8 TSI AT</td>\n",
       "      <td>Aug-19</td>\n",
       "      <td>Comprehensive</td>\n",
       "      <td>Petrol</td>\n",
       "      <td>5</td>\n",
       "      <td>44900</td>\n",
       "      <td>First Owner</td>\n",
       "      <td>Automatic</td>\n",
       "      <td>2019</td>\n",
       "      <td>14.67</td>\n",
       "      <td>1798.0</td>\n",
       "      <td>1798.0</td>\n",
       "      <td>17746.0</td>\n",
       "      <td>24.00</td>\n",
       "    </tr>\n",
       "  </tbody>\n",
       "</table>\n",
       "</div>"
      ],
      "text/plain": [
       "   Unnamed: 0                                           car_name  \\\n",
       "0           0                    2017 Mercedes-Benz S-Class S400   \n",
       "1           1  2020 Nissan Magnite Turbo CVT XV Premium Opt BSVI   \n",
       "2           2                       2018 BMW X1 sDrive 20d xLine   \n",
       "3           3                           2019 Kia Seltos GTX Plus   \n",
       "4           4                    2019 Skoda Superb LK 1.8 TSI AT   \n",
       "\n",
       "  registration_year insurance_validity fuel_type  seats  kms_driven  \\\n",
       "0            Jul-17      Comprehensive    Petrol      5       56000   \n",
       "1            Jan-21      Comprehensive    Petrol      5       30615   \n",
       "2            Sep-18      Comprehensive    Diesel      5       24000   \n",
       "3            Dec-19      Comprehensive    Petrol      5       18378   \n",
       "4            Aug-19      Comprehensive    Petrol      5       44900   \n",
       "\n",
       "    ownsership transmission manufacturing_year  mileage(kmpl)  engine(cc)  \\\n",
       "0  First Owner    Automatic               2017           7.81      2996.0   \n",
       "1  First Owner    Automatic               2020          17.40       999.0   \n",
       "2  First Owner    Automatic               2018          20.68      1995.0   \n",
       "3  First Owner       Manual               2019          16.50      1353.0   \n",
       "4  First Owner    Automatic               2019          14.67      1798.0   \n",
       "\n",
       "   max_power(bhp)  torque(Nm)  price(in lakhs)  \n",
       "0          2996.0       333.0            63.75  \n",
       "1           999.0      9863.0             8.99  \n",
       "2          1995.0       188.0            23.75  \n",
       "3          1353.0     13808.0            13.56  \n",
       "4          1798.0     17746.0            24.00  "
      ]
     },
     "execution_count": 12,
     "metadata": {},
     "output_type": "execute_result"
    }
   ],
   "source": [
    "df.head(5)"
   ]
  },
  {
   "cell_type": "code",
   "execution_count": 13,
   "id": "448c68ec",
   "metadata": {},
   "outputs": [
    {
     "data": {
      "text/html": [
       "<div>\n",
       "<style scoped>\n",
       "    .dataframe tbody tr th:only-of-type {\n",
       "        vertical-align: middle;\n",
       "    }\n",
       "\n",
       "    .dataframe tbody tr th {\n",
       "        vertical-align: top;\n",
       "    }\n",
       "\n",
       "    .dataframe thead th {\n",
       "        text-align: right;\n",
       "    }\n",
       "</style>\n",
       "<table border=\"1\" class=\"dataframe\">\n",
       "  <thead>\n",
       "    <tr style=\"text-align: right;\">\n",
       "      <th></th>\n",
       "      <th>Unnamed: 0</th>\n",
       "      <th>car_name</th>\n",
       "      <th>registration_year</th>\n",
       "      <th>insurance_validity</th>\n",
       "      <th>fuel_type</th>\n",
       "      <th>seats</th>\n",
       "      <th>kms_driven</th>\n",
       "      <th>ownsership</th>\n",
       "      <th>transmission</th>\n",
       "      <th>manufacturing_year</th>\n",
       "      <th>mileage(kmpl)</th>\n",
       "      <th>engine(cc)</th>\n",
       "      <th>max_power(bhp)</th>\n",
       "      <th>torque(Nm)</th>\n",
       "      <th>price(in lakhs)</th>\n",
       "    </tr>\n",
       "  </thead>\n",
       "  <tbody>\n",
       "    <tr>\n",
       "      <th>0</th>\n",
       "      <td>False</td>\n",
       "      <td>False</td>\n",
       "      <td>False</td>\n",
       "      <td>False</td>\n",
       "      <td>False</td>\n",
       "      <td>False</td>\n",
       "      <td>False</td>\n",
       "      <td>False</td>\n",
       "      <td>False</td>\n",
       "      <td>False</td>\n",
       "      <td>False</td>\n",
       "      <td>False</td>\n",
       "      <td>False</td>\n",
       "      <td>False</td>\n",
       "      <td>False</td>\n",
       "    </tr>\n",
       "    <tr>\n",
       "      <th>1</th>\n",
       "      <td>False</td>\n",
       "      <td>False</td>\n",
       "      <td>False</td>\n",
       "      <td>False</td>\n",
       "      <td>False</td>\n",
       "      <td>False</td>\n",
       "      <td>False</td>\n",
       "      <td>False</td>\n",
       "      <td>False</td>\n",
       "      <td>False</td>\n",
       "      <td>False</td>\n",
       "      <td>False</td>\n",
       "      <td>False</td>\n",
       "      <td>False</td>\n",
       "      <td>False</td>\n",
       "    </tr>\n",
       "    <tr>\n",
       "      <th>2</th>\n",
       "      <td>False</td>\n",
       "      <td>False</td>\n",
       "      <td>False</td>\n",
       "      <td>False</td>\n",
       "      <td>False</td>\n",
       "      <td>False</td>\n",
       "      <td>False</td>\n",
       "      <td>False</td>\n",
       "      <td>False</td>\n",
       "      <td>False</td>\n",
       "      <td>False</td>\n",
       "      <td>False</td>\n",
       "      <td>False</td>\n",
       "      <td>False</td>\n",
       "      <td>False</td>\n",
       "    </tr>\n",
       "    <tr>\n",
       "      <th>3</th>\n",
       "      <td>False</td>\n",
       "      <td>False</td>\n",
       "      <td>False</td>\n",
       "      <td>False</td>\n",
       "      <td>False</td>\n",
       "      <td>False</td>\n",
       "      <td>False</td>\n",
       "      <td>False</td>\n",
       "      <td>False</td>\n",
       "      <td>False</td>\n",
       "      <td>False</td>\n",
       "      <td>False</td>\n",
       "      <td>False</td>\n",
       "      <td>False</td>\n",
       "      <td>False</td>\n",
       "    </tr>\n",
       "    <tr>\n",
       "      <th>4</th>\n",
       "      <td>False</td>\n",
       "      <td>False</td>\n",
       "      <td>False</td>\n",
       "      <td>False</td>\n",
       "      <td>False</td>\n",
       "      <td>False</td>\n",
       "      <td>False</td>\n",
       "      <td>False</td>\n",
       "      <td>False</td>\n",
       "      <td>False</td>\n",
       "      <td>False</td>\n",
       "      <td>False</td>\n",
       "      <td>False</td>\n",
       "      <td>False</td>\n",
       "      <td>False</td>\n",
       "    </tr>\n",
       "    <tr>\n",
       "      <th>...</th>\n",
       "      <td>...</td>\n",
       "      <td>...</td>\n",
       "      <td>...</td>\n",
       "      <td>...</td>\n",
       "      <td>...</td>\n",
       "      <td>...</td>\n",
       "      <td>...</td>\n",
       "      <td>...</td>\n",
       "      <td>...</td>\n",
       "      <td>...</td>\n",
       "      <td>...</td>\n",
       "      <td>...</td>\n",
       "      <td>...</td>\n",
       "      <td>...</td>\n",
       "      <td>...</td>\n",
       "    </tr>\n",
       "    <tr>\n",
       "      <th>1548</th>\n",
       "      <td>False</td>\n",
       "      <td>False</td>\n",
       "      <td>False</td>\n",
       "      <td>False</td>\n",
       "      <td>False</td>\n",
       "      <td>False</td>\n",
       "      <td>False</td>\n",
       "      <td>False</td>\n",
       "      <td>False</td>\n",
       "      <td>False</td>\n",
       "      <td>False</td>\n",
       "      <td>False</td>\n",
       "      <td>False</td>\n",
       "      <td>False</td>\n",
       "      <td>False</td>\n",
       "    </tr>\n",
       "    <tr>\n",
       "      <th>1549</th>\n",
       "      <td>False</td>\n",
       "      <td>False</td>\n",
       "      <td>False</td>\n",
       "      <td>False</td>\n",
       "      <td>False</td>\n",
       "      <td>False</td>\n",
       "      <td>False</td>\n",
       "      <td>False</td>\n",
       "      <td>False</td>\n",
       "      <td>False</td>\n",
       "      <td>False</td>\n",
       "      <td>False</td>\n",
       "      <td>False</td>\n",
       "      <td>False</td>\n",
       "      <td>False</td>\n",
       "    </tr>\n",
       "    <tr>\n",
       "      <th>1550</th>\n",
       "      <td>False</td>\n",
       "      <td>False</td>\n",
       "      <td>False</td>\n",
       "      <td>False</td>\n",
       "      <td>False</td>\n",
       "      <td>False</td>\n",
       "      <td>False</td>\n",
       "      <td>False</td>\n",
       "      <td>False</td>\n",
       "      <td>False</td>\n",
       "      <td>False</td>\n",
       "      <td>False</td>\n",
       "      <td>False</td>\n",
       "      <td>False</td>\n",
       "      <td>False</td>\n",
       "    </tr>\n",
       "    <tr>\n",
       "      <th>1551</th>\n",
       "      <td>False</td>\n",
       "      <td>False</td>\n",
       "      <td>False</td>\n",
       "      <td>False</td>\n",
       "      <td>False</td>\n",
       "      <td>False</td>\n",
       "      <td>False</td>\n",
       "      <td>False</td>\n",
       "      <td>False</td>\n",
       "      <td>False</td>\n",
       "      <td>False</td>\n",
       "      <td>False</td>\n",
       "      <td>False</td>\n",
       "      <td>False</td>\n",
       "      <td>False</td>\n",
       "    </tr>\n",
       "    <tr>\n",
       "      <th>1552</th>\n",
       "      <td>False</td>\n",
       "      <td>False</td>\n",
       "      <td>False</td>\n",
       "      <td>False</td>\n",
       "      <td>False</td>\n",
       "      <td>False</td>\n",
       "      <td>False</td>\n",
       "      <td>False</td>\n",
       "      <td>False</td>\n",
       "      <td>False</td>\n",
       "      <td>False</td>\n",
       "      <td>False</td>\n",
       "      <td>False</td>\n",
       "      <td>False</td>\n",
       "      <td>False</td>\n",
       "    </tr>\n",
       "  </tbody>\n",
       "</table>\n",
       "<p>1553 rows × 15 columns</p>\n",
       "</div>"
      ],
      "text/plain": [
       "      Unnamed: 0  car_name  registration_year  insurance_validity  fuel_type  \\\n",
       "0          False     False              False               False      False   \n",
       "1          False     False              False               False      False   \n",
       "2          False     False              False               False      False   \n",
       "3          False     False              False               False      False   \n",
       "4          False     False              False               False      False   \n",
       "...          ...       ...                ...                 ...        ...   \n",
       "1548       False     False              False               False      False   \n",
       "1549       False     False              False               False      False   \n",
       "1550       False     False              False               False      False   \n",
       "1551       False     False              False               False      False   \n",
       "1552       False     False              False               False      False   \n",
       "\n",
       "      seats  kms_driven  ownsership  transmission  manufacturing_year  \\\n",
       "0     False       False       False         False               False   \n",
       "1     False       False       False         False               False   \n",
       "2     False       False       False         False               False   \n",
       "3     False       False       False         False               False   \n",
       "4     False       False       False         False               False   \n",
       "...     ...         ...         ...           ...                 ...   \n",
       "1548  False       False       False         False               False   \n",
       "1549  False       False       False         False               False   \n",
       "1550  False       False       False         False               False   \n",
       "1551  False       False       False         False               False   \n",
       "1552  False       False       False         False               False   \n",
       "\n",
       "      mileage(kmpl)  engine(cc)  max_power(bhp)  torque(Nm)  price(in lakhs)  \n",
       "0             False       False           False       False            False  \n",
       "1             False       False           False       False            False  \n",
       "2             False       False           False       False            False  \n",
       "3             False       False           False       False            False  \n",
       "4             False       False           False       False            False  \n",
       "...             ...         ...             ...         ...              ...  \n",
       "1548          False       False           False       False            False  \n",
       "1549          False       False           False       False            False  \n",
       "1550          False       False           False       False            False  \n",
       "1551          False       False           False       False            False  \n",
       "1552          False       False           False       False            False  \n",
       "\n",
       "[1553 rows x 15 columns]"
      ]
     },
     "execution_count": 13,
     "metadata": {},
     "output_type": "execute_result"
    }
   ],
   "source": [
    "df.isnull()"
   ]
  },
  {
   "cell_type": "code",
   "execution_count": 14,
   "id": "45b2a54c",
   "metadata": {},
   "outputs": [
    {
     "data": {
      "text/plain": [
       "Unnamed: 0            0\n",
       "car_name              0\n",
       "registration_year     0\n",
       "insurance_validity    0\n",
       "fuel_type             0\n",
       "seats                 0\n",
       "kms_driven            0\n",
       "ownsership            0\n",
       "transmission          0\n",
       "manufacturing_year    0\n",
       "mileage(kmpl)         3\n",
       "engine(cc)            3\n",
       "max_power(bhp)        3\n",
       "torque(Nm)            4\n",
       "price(in lakhs)       0\n",
       "dtype: int64"
      ]
     },
     "execution_count": 14,
     "metadata": {},
     "output_type": "execute_result"
    }
   ],
   "source": [
    "df.isnull().sum()"
   ]
  },
  {
   "cell_type": "code",
   "execution_count": 15,
   "id": "41a4a746",
   "metadata": {},
   "outputs": [
    {
     "data": {
      "text/plain": [
       "Unnamed: 0              int64\n",
       "car_name               object\n",
       "registration_year      object\n",
       "insurance_validity     object\n",
       "fuel_type              object\n",
       "seats                   int64\n",
       "kms_driven              int64\n",
       "ownsership             object\n",
       "transmission           object\n",
       "manufacturing_year     object\n",
       "mileage(kmpl)         float64\n",
       "engine(cc)            float64\n",
       "max_power(bhp)        float64\n",
       "torque(Nm)            float64\n",
       "price(in lakhs)       float64\n",
       "dtype: object"
      ]
     },
     "execution_count": 15,
     "metadata": {},
     "output_type": "execute_result"
    }
   ],
   "source": [
    "df.dtypes"
   ]
  },
  {
   "cell_type": "code",
   "execution_count": 16,
   "id": "12623e1b",
   "metadata": {},
   "outputs": [],
   "source": [
    "avg_mileage=df[\"mileage(kmpl)\"].astype(\"float\").mean()"
   ]
  },
  {
   "cell_type": "code",
   "execution_count": 17,
   "id": "6f7dc255",
   "metadata": {},
   "outputs": [
    {
     "data": {
      "text/plain": [
       "236.92727741935522"
      ]
     },
     "execution_count": 17,
     "metadata": {},
     "output_type": "execute_result"
    }
   ],
   "source": [
    "avg_mileage"
   ]
  },
  {
   "cell_type": "code",
   "execution_count": 18,
   "id": "c5bf33aa",
   "metadata": {},
   "outputs": [],
   "source": [
    "df[\"mileage(kmpl)\"].replace(np.NaN,avg_mileage,inplace=True)"
   ]
  },
  {
   "cell_type": "code",
   "execution_count": 19,
   "id": "1779aadf",
   "metadata": {},
   "outputs": [
    {
     "data": {
      "text/plain": [
       "0          7.81\n",
       "1         17.40\n",
       "2         20.68\n",
       "3         16.50\n",
       "4         14.67\n",
       "         ...   \n",
       "1548    1493.00\n",
       "1549     999.00\n",
       "1550      17.50\n",
       "1551      18.78\n",
       "1552      20.85\n",
       "Name: mileage(kmpl), Length: 1553, dtype: float64"
      ]
     },
     "execution_count": 19,
     "metadata": {},
     "output_type": "execute_result"
    }
   ],
   "source": [
    "df[\"mileage(kmpl)\"]"
   ]
  },
  {
   "cell_type": "code",
   "execution_count": 21,
   "id": "a9796281",
   "metadata": {},
   "outputs": [
    {
     "data": {
      "text/plain": [
       "Unnamed: 0            0\n",
       "car_name              0\n",
       "registration_year     0\n",
       "insurance_validity    0\n",
       "fuel_type             0\n",
       "seats                 0\n",
       "kms_driven            0\n",
       "ownsership            0\n",
       "transmission          0\n",
       "manufacturing_year    0\n",
       "mileage(kmpl)         0\n",
       "engine(cc)            3\n",
       "max_power(bhp)        3\n",
       "torque(Nm)            4\n",
       "price(in lakhs)       0\n",
       "dtype: int64"
      ]
     },
     "execution_count": 21,
     "metadata": {},
     "output_type": "execute_result"
    }
   ],
   "source": [
    "df.isnull().sum()"
   ]
  },
  {
   "cell_type": "code",
   "execution_count": 22,
   "id": "5f029ecf",
   "metadata": {},
   "outputs": [
    {
     "data": {
      "text/plain": [
       "14718574440.514194"
      ]
     },
     "execution_count": 22,
     "metadata": {},
     "output_type": "execute_result"
    }
   ],
   "source": [
    "avg_engin=df[\"engine(cc)\"].astype(\"float\").mean()\n",
    "avg_engin"
   ]
  },
  {
   "cell_type": "code",
   "execution_count": 26,
   "id": "ba2003ea",
   "metadata": {},
   "outputs": [],
   "source": [
    "df[\"engine(cc)\"].replace(np.NaN,avg_engin,inplace=True)"
   ]
  },
  {
   "cell_type": "code",
   "execution_count": 27,
   "id": "29e7184a",
   "metadata": {},
   "outputs": [
    {
     "data": {
      "text/plain": [
       "14718574440.514194"
      ]
     },
     "execution_count": 27,
     "metadata": {},
     "output_type": "execute_result"
    }
   ],
   "source": [
    "avg_maxpower=df[\"max_power(bhp)\"].astype(\"float\").mean()\n",
    "avg_maxpower"
   ]
  },
  {
   "cell_type": "code",
   "execution_count": 28,
   "id": "48a1e4af",
   "metadata": {},
   "outputs": [],
   "source": [
    "df[\"max_power(bhp)\"].replace(np.NaN,avg_maxpower,inplace=True)"
   ]
  },
  {
   "cell_type": "code",
   "execution_count": 29,
   "id": "dbf5fdca",
   "metadata": {},
   "outputs": [
    {
     "data": {
      "text/plain": [
       "14239.891542930924"
      ]
     },
     "execution_count": 29,
     "metadata": {},
     "output_type": "execute_result"
    }
   ],
   "source": [
    "avg_torque=df[\"torque(Nm)\"].astype(\"float\").mean()\n",
    "avg_torque"
   ]
  },
  {
   "cell_type": "code",
   "execution_count": 31,
   "id": "07d54aba",
   "metadata": {},
   "outputs": [],
   "source": [
    "df[\"torque(Nm)\"].replace(np.NaN,avg_torque,inplace=True)"
   ]
  },
  {
   "cell_type": "code",
   "execution_count": 32,
   "id": "3576e772",
   "metadata": {},
   "outputs": [
    {
     "data": {
      "text/plain": [
       "Unnamed: 0            0\n",
       "car_name              0\n",
       "registration_year     0\n",
       "insurance_validity    0\n",
       "fuel_type             0\n",
       "seats                 0\n",
       "kms_driven            0\n",
       "ownsership            0\n",
       "transmission          0\n",
       "manufacturing_year    0\n",
       "mileage(kmpl)         0\n",
       "engine(cc)            0\n",
       "max_power(bhp)        0\n",
       "torque(Nm)            0\n",
       "price(in lakhs)       0\n",
       "dtype: int64"
      ]
     },
     "execution_count": 32,
     "metadata": {},
     "output_type": "execute_result"
    }
   ],
   "source": [
    "df.isnull().sum()"
   ]
  },
  {
   "cell_type": "code",
   "execution_count": 33,
   "id": "c72296cf",
   "metadata": {},
   "outputs": [
    {
     "data": {
      "text/plain": [
       "0       False\n",
       "1       False\n",
       "2       False\n",
       "3       False\n",
       "4       False\n",
       "        ...  \n",
       "1548    False\n",
       "1549    False\n",
       "1550    False\n",
       "1551    False\n",
       "1552    False\n",
       "Length: 1553, dtype: bool"
      ]
     },
     "execution_count": 33,
     "metadata": {},
     "output_type": "execute_result"
    }
   ],
   "source": [
    "df.duplicated()"
   ]
  },
  {
   "cell_type": "code",
   "execution_count": 34,
   "id": "8a10f579",
   "metadata": {},
   "outputs": [
    {
     "data": {
      "text/plain": [
       "0"
      ]
     },
     "execution_count": 34,
     "metadata": {},
     "output_type": "execute_result"
    }
   ],
   "source": [
    "df.duplicated().sum()"
   ]
  },
  {
   "cell_type": "code",
   "execution_count": 37,
   "id": "a4141f0d",
   "metadata": {},
   "outputs": [
    {
     "data": {
      "text/plain": [
       "0       False\n",
       "1       False\n",
       "2       False\n",
       "3       False\n",
       "4       False\n",
       "        ...  \n",
       "1548    False\n",
       "1549    False\n",
       "1550    False\n",
       "1551     True\n",
       "1552    False\n",
       "Name: car_name, Length: 1553, dtype: bool"
      ]
     },
     "execution_count": 37,
     "metadata": {},
     "output_type": "execute_result"
    }
   ],
   "source": [
    "df[\"car_name\"].duplicated()"
   ]
  },
  {
   "cell_type": "code",
   "execution_count": 38,
   "id": "f8fb38cc",
   "metadata": {},
   "outputs": [
    {
     "data": {
      "text/plain": [
       "628"
      ]
     },
     "execution_count": 38,
     "metadata": {},
     "output_type": "execute_result"
    }
   ],
   "source": [
    "df[\"car_name\"].duplicated().sum()"
   ]
  },
  {
   "cell_type": "code",
   "execution_count": 39,
   "id": "da9ef59a",
   "metadata": {},
   "outputs": [
    {
     "data": {
      "text/plain": [
       "1375"
      ]
     },
     "execution_count": 39,
     "metadata": {},
     "output_type": "execute_result"
    }
   ],
   "source": [
    "df[\"registration_year\"].duplicated().sum()"
   ]
  },
  {
   "cell_type": "code",
   "execution_count": null,
   "id": "b377d339",
   "metadata": {},
   "outputs": [],
   "source": [
    "df[\"re\"].duplicated().sum()"
   ]
  }
 ],
 "metadata": {
  "kernelspec": {
   "display_name": "Python 3 (ipykernel)",
   "language": "python",
   "name": "python3"
  },
  "language_info": {
   "codemirror_mode": {
    "name": "ipython",
    "version": 3
   },
   "file_extension": ".py",
   "mimetype": "text/x-python",
   "name": "python",
   "nbconvert_exporter": "python",
   "pygments_lexer": "ipython3",
   "version": "3.11.4"
  }
 },
 "nbformat": 4,
 "nbformat_minor": 5
}
